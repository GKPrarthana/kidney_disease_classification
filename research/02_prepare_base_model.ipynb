{
 "cells": [
  {
   "cell_type": "code",
   "execution_count": 37,
   "metadata": {},
   "outputs": [],
   "source": [
    "import os"
   ]
  },
  {
   "cell_type": "code",
   "execution_count": 38,
   "metadata": {},
   "outputs": [
    {
     "data": {
      "text/plain": [
       "'c:\\\\Users\\\\Prarthana\\\\Desktop\\\\projects\\\\kidney\\\\kidney_disease_classification'"
      ]
     },
     "execution_count": 38,
     "metadata": {},
     "output_type": "execute_result"
    }
   ],
   "source": [
    "%pwd #'c:\\\\Users\\\\Prarthana\\\\Desktop\\\\projects\\\\kidney\\\\kidney_disease_classification\\\\research'"
   ]
  },
  {
   "cell_type": "code",
   "execution_count": 39,
   "metadata": {},
   "outputs": [],
   "source": [
    "os.chdir(\"../\")"
   ]
  },
  {
   "cell_type": "code",
   "execution_count": 40,
   "metadata": {},
   "outputs": [
    {
     "data": {
      "text/plain": [
       "'c:\\\\Users\\\\Prarthana\\\\Desktop\\\\projects\\\\kidney'"
      ]
     },
     "execution_count": 40,
     "metadata": {},
     "output_type": "execute_result"
    }
   ],
   "source": [
    "%pwd"
   ]
  },
  {
   "cell_type": "code",
   "execution_count": null,
   "metadata": {},
   "outputs": [],
   "source": [
    "#os.chdir(\"c:\\\\Users\\\\Prarthana\\\\Desktop\\\\projects\\\\kidney\\\\kidney_disease_classification\")"
   ]
  },
  {
   "cell_type": "code",
   "execution_count": 41,
   "metadata": {},
   "outputs": [
    {
     "data": {
      "text/plain": [
       "'c:\\\\Users\\\\Prarthana\\\\Desktop\\\\projects\\\\kidney'"
      ]
     },
     "execution_count": 41,
     "metadata": {},
     "output_type": "execute_result"
    }
   ],
   "source": [
    "%pwd"
   ]
  },
  {
   "cell_type": "code",
   "execution_count": 53,
   "metadata": {},
   "outputs": [],
   "source": [
    "from dataclasses import dataclass\n",
    "from pathlib import Path\n",
    "\n",
    "@dataclass(frozen=True)\n",
    "class PrepareBaseModelConfig:\n",
    "    root_dir: Path\n",
    "    base_model_path: Path\n",
    "    updated_base_model_path: Path\n",
    "    params_image_size: list\n",
    "    params_learning_rate: float\n",
    "    params_include_top: bool\n",
    "    params_weights: str\n",
    "    params_classes: int"
   ]
  },
  {
   "cell_type": "code",
   "execution_count": 44,
   "metadata": {},
   "outputs": [],
   "source": [
    "from cnnClassifier.constants import *\n",
    "from cnnClassifier.utils.common import read_yaml, create_directories"
   ]
  },
  {
   "cell_type": "code",
   "execution_count": 45,
   "metadata": {},
   "outputs": [],
   "source": [
    "class ConfigurationManager:\n",
    "    def __init__(\n",
    "        self, \n",
    "        config_file_path: str = CONFIG_FILE_PATH,\n",
    "        params_file_path: str = PARAMS_FILE_PATH\n",
    "        ):\n",
    "        self.config = read_yaml(config_file_path)\n",
    "        self.params = read_yaml(params_file_path)"
   ]
  },
  {
   "cell_type": "code",
   "execution_count": 46,
   "metadata": {},
   "outputs": [],
   "source": [
    "def get_prepare_base_model_config(self) -> PrepareBaseModelConfig:\n",
    "    config = self.config.prepare_base_model\n",
    "    \n",
    "    create_directories([config.root_dir])\n",
    "    \n",
    "    prepare_base_model_config = PrepareBaseModelConfig(\n",
    "        root_dir=Path(config.root_dir),\n",
    "        base_model_path=Path(config.base_model_path),\n",
    "        updated_base_model_path=Path(config.updated_base_model_path),\n",
    "        params_image_size=self.params.IMAGE_SIZE,\n",
    "        params_learning_rate=self.params.LEARNING_RATE,\n",
    "        params_include_top=self.params.INCLUDE_TOP,\n",
    "        params_weights=self.params.WEIGHTS,\n",
    "        params_classes=self.params.CLASSES\n",
    "    )\n",
    "    return prepare_base_model_config"
   ]
  },
  {
   "cell_type": "code",
   "execution_count": null,
   "metadata": {},
   "outputs": [],
   "source": [
    "#update components #components/prepare_base_model.py\n",
    "import os\n",
    "import urllib.request as request\n",
    "from zipfile import ZipFile\n",
    "import tensorflow as tf\n",
    "from pathlib import Path\n",
    "\n",
    "class PrepareBaseModel:\n",
    "    def __init__(self, config: PrepareBaseModelConfig):\n",
    "        self.config = config\n",
    "\n",
    "    def get_base_model(self):\n",
    "        self.model = tf.keras.applications.vgg16.VGG16(\n",
    "            input_shape = self.config.params_image_size,\n",
    "            weights = self.config.params_weights,\n",
    "            include_top = self.config.params_include_top\n",
    "        )\n",
    "        self.save_model(\n",
    "            path = self.config.base_model_path,model = self.model\n",
    "        )"
   ]
  },
  {
   "cell_type": "code",
   "execution_count": 48,
   "metadata": {},
   "outputs": [],
   "source": [
    "#components/prepare_base_model.py\n",
    "@staticmethod\n",
    "def prepare_full_model(model,classes,freeze_all,freeze_till,learning_rate):\n",
    "    if freeze_all:\n",
    "        for layer in model.layers:\n",
    "            model.trainable = False\n",
    "    elif(freeze_till is not None) and (freeze_till > 0):\n",
    "        for layer in model.layers[:-freeze_till]:\n",
    "            model.trainable = False\n",
    "    \n",
    "    flatten_in = tf.keras.layers.Flatten()(model.output)\n",
    "    prediction = tf.keras.layers.Dense(\n",
    "        units = classes,\n",
    "        activation = \"softmax\",\n",
    "    )\n",
    "    flatten_in\n",
    "    \n",
    "    full_model = tf.keras.models.Model(\n",
    "        inputs = model.input,\n",
    "        outputs = prediction\n",
    "    )\n",
    "    \n",
    "    full_model.compile(\n",
    "        optimizer = tf.keras.optimizers.SGD(learning_rate = learning_rate),\n",
    "        loss = tf.keras.losses.CategoricalCrossentropy(),\n",
    "        metrics = [\"accuracy\"]\n",
    "    )\n",
    "    \n",
    "    full_model.summary()\n",
    "    return full_model\n",
    "\n",
    "def update_base_modl(self):\n",
    "    self.full_model = self._prepare_full_model(\n",
    "        model = self.model,\n",
    "        classes = self.config.params_classes,\n",
    "        freeze_all = True,\n",
    "        freeze_till = None,\n",
    "        learning_rate = self.config.params_learning_rate\n",
    "    )\n",
    "    self.save_model(path = self.config.updated_base_model_path, model = self.full_model)\n",
    "    \n",
    "@staticmethod\n",
    "def save_model(path, model):\n",
    "    model.save(path)\n",
    "    print(f\"Model saved at {path}\")"
   ]
  },
  {
   "cell_type": "code",
   "execution_count": 49,
   "metadata": {},
   "outputs": [
    {
     "data": {
      "text/plain": [
       "'c:\\\\Users\\\\Prarthana\\\\Desktop\\\\projects\\\\kidney'"
      ]
     },
     "execution_count": 49,
     "metadata": {},
     "output_type": "execute_result"
    }
   ],
   "source": [
    "%pwd"
   ]
  },
  {
   "cell_type": "code",
   "execution_count": 50,
   "metadata": {},
   "outputs": [],
   "source": [
    "os.chdir(\"c:\\\\Users\\\\Prarthana\\\\Desktop\\\\projects\\\\kidney\\\\kidney_disease_classification\")"
   ]
  },
  {
   "cell_type": "code",
   "execution_count": null,
   "metadata": {},
   "outputs": [
    {
     "name": "stdout",
     "output_type": "stream",
     "text": [
      "[2025-04-11 20:34:09,992: INFO: common: yaml file: config\\config.yaml loaded successfully]\n",
      "[2025-04-11 20:34:09,994: INFO: common: yaml file: params.yaml loaded successfully]\n"
     ]
    },
    {
     "ename": "AttributeError",
     "evalue": "'ConfigurationManager' object has no attribute 'get_prepare_base_model_config'",
     "output_type": "error",
     "traceback": [
      "\u001b[31m---------------------------------------------------------------------------\u001b[39m",
      "\u001b[31mAttributeError\u001b[39m                            Traceback (most recent call last)",
      "\u001b[36mCell\u001b[39m\u001b[36m \u001b[39m\u001b[32mIn[52]\u001b[39m\u001b[32m, line 23\u001b[39m\n\u001b[32m     21\u001b[39m     prepare_base_model.update_base_model()\n\u001b[32m     22\u001b[39m \u001b[38;5;28;01mexcept\u001b[39;00m \u001b[38;5;167;01mException\u001b[39;00m \u001b[38;5;28;01mas\u001b[39;00m e:\n\u001b[32m---> \u001b[39m\u001b[32m23\u001b[39m     \u001b[38;5;28;01mraise\u001b[39;00m e\n",
      "\u001b[36mCell\u001b[39m\u001b[36m \u001b[39m\u001b[32mIn[52]\u001b[39m\u001b[32m, line 18\u001b[39m\n\u001b[32m     16\u001b[39m \u001b[38;5;28;01mtry\u001b[39;00m:\n\u001b[32m     17\u001b[39m     config = ConfigurationManager()\n\u001b[32m---> \u001b[39m\u001b[32m18\u001b[39m     prepare_base_model_config = \u001b[43mconfig\u001b[49m\u001b[43m.\u001b[49m\u001b[43mget_prepare_base_model_config\u001b[49m()\n\u001b[32m     19\u001b[39m     prepare_base_model = PrepareBaseModel(config=prepare_base_model_config)\n\u001b[32m     20\u001b[39m     prepare_base_model.get_base_model()\n",
      "\u001b[31mAttributeError\u001b[39m: 'ConfigurationManager' object has no attribute 'get_prepare_base_model_config'"
     ]
    }
   ],
   "source": [
    "#update pipeline\n",
    "\n",
    "try:\n",
    "    config = ConfigurationManager()\n",
    "    prepare_base_model_config = config.get_prepare_base_model_config()\n",
    "    prepare_base_model = PrepareBaseModel(config=prepare_base_model_config)\n",
    "    prepare_base_model.get_base_model()\n",
    "    prepare_base_model.update_base_model()\n",
    "except Exception as e:\n",
    "    raise e"
   ]
  },
  {
   "cell_type": "code",
   "execution_count": null,
   "metadata": {},
   "outputs": [],
   "source": []
  }
 ],
 "metadata": {
  "kernelspec": {
   "display_name": "kidney_env",
   "language": "python",
   "name": "python3"
  },
  "language_info": {
   "codemirror_mode": {
    "name": "ipython",
    "version": 3
   },
   "file_extension": ".py",
   "mimetype": "text/x-python",
   "name": "python",
   "nbconvert_exporter": "python",
   "pygments_lexer": "ipython3",
   "version": "3.12.2"
  }
 },
 "nbformat": 4,
 "nbformat_minor": 2
}
